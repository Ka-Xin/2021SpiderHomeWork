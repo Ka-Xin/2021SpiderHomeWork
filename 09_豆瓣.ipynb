{
 "cells": [
  {
   "cell_type": "code",
   "execution_count": 1,
   "metadata": {},
   "outputs": [],
   "source": [
    "import requests\n",
    "from selenium import webdriver\n",
    "from PIL import Image\n",
    "from selenium.webdriver.chrome.options import Options\n",
    "from selenium.webdriver import ChromeOptions\n",
    "from selenium.webdriver import ActionChains\n",
    "import pandas as pd\n",
    "import time\n",
    "import random"
   ]
  },
  {
   "cell_type": "code",
   "execution_count": 2,
   "metadata": {},
   "outputs": [],
   "source": [
    "chrome_options=Options()\n",
    "chrome_options.add_argument('--headless')\n",
    "chrome_options.add_argument('--disable-gpu')\n",
    "option = ChromeOptions()\n",
    "option.add_experimental_option('excludeSwitches',['enable-automation'])"
   ]
  },
  {
   "cell_type": "markdown",
   "metadata": {},
   "source": [
    "# Driver打开豆瓣"
   ]
  },
  {
   "cell_type": "code",
   "execution_count": 3,
   "metadata": {},
   "outputs": [],
   "source": [
    "url = \"https://www.douban.com/\"\n",
    "driver = webdriver.Chrome(executable_path=r\"C:\\chromedriver_win32\\chromedriver.exe\",)# chrome_options=chrome_options, options=option)\n",
    "driver.get(url)"
   ]
  },
  {
   "cell_type": "markdown",
   "metadata": {},
   "source": [
    "# 登录"
   ]
  },
  {
   "cell_type": "markdown",
   "metadata": {},
   "source": [
    "## 滑动验证"
   ]
  },
  {
   "cell_type": "code",
   "execution_count": 4,
   "metadata": {},
   "outputs": [],
   "source": [
    "def get_img():\n",
    "    time.sleep(5)\n",
    "    #切换到iframe('tcaptcha_iframe')\n",
    "    driver.switch_to.frame('tcaptcha_iframe')\n",
    "    \n",
    "    #获取缺货、完整图片的url\n",
    "    src = driver.find_element_by_xpath('//*[@class=\"tc-bg\"]/img').get_attribute('src')\n",
    "    src_background = src.replace('img_index=1', 'img_index=0')\n",
    "    \n",
    "    #下载缺失的图片和完整的图片\n",
    "    open('./img_canque.png', 'wb').write(requests.get(url=src).content)\n",
    "    open('./img_wanzheng.png', 'wb').write(requests.get(url=src_background).content)\n",
    "    print(\"下载完成！\")\n",
    "    \n",
    "    #加载缺失、完整的图片\n",
    "    captcha_queshi = Image.open('./img_canque.png')\n",
    "    captcha_wanzheng = Image.open('./img_wanzheng.png')\n",
    "    \n",
    "    return captcha_queshi, captcha_wanzheng"
   ]
  },
  {
   "cell_type": "code",
   "execution_count": 5,
   "metadata": {},
   "outputs": [],
   "source": [
    "def resize_img(img):#将图片还原成原尺寸\n",
    "    #原图片为680×390px 渲染的大小为283×162px\n",
    "    a = 2.403\n",
    "    (x, y) = img.size\n",
    "    x_resize = int(x // a)\n",
    "    y_resize = int(y // a)\n",
    "    img = img.resize((x_resize, y_resize), Image.ANTIALIAS)\n",
    "    \n",
    "    return img"
   ]
  },
  {
   "cell_type": "code",
   "execution_count": 6,
   "metadata": {},
   "outputs": [],
   "source": [
    "def is_pixel_equal(img1, img2, x, y):#比较两张图片同一个点的像数值，差距大于设置的标准返回False\n",
    "    pixel1, pixel2 = img1.load()[x, y], img2.load()[x, y]\n",
    "    sub_index = 100 #设置的差距\n",
    "    \n",
    "    #比较RGB分量的值\n",
    "    if abs(pixel1[0] - pixel2[0]) < sub_index and abs(pixel1[1] - pixel2[1]) < sub_index and abs(pixel1[2] - pixel2[2]) < sub_index:\n",
    "        return True\n",
    "    else:\n",
    "        return False"
   ]
  },
  {
   "cell_type": "code",
   "execution_count": 7,
   "metadata": {},
   "outputs": [],
   "source": [
    "def get_gap_offest(img1, img2):#获得缺失的位置\n",
    "    distance = 70\n",
    "    \n",
    "    for i in range(distance, img1.size[0]):\n",
    "        for j in range(img1.size[1]):\n",
    "            #两张图片对比,(i,j)像素点的RGB差距，过大则为偏移值\n",
    "            if not is_pixel_equal(img1, img2, i, j):\n",
    "                distance = i\n",
    "                return distance\n",
    "    return distance"
   ]
  },
  {
   "cell_type": "code",
   "execution_count": 8,
   "metadata": {},
   "outputs": [],
   "source": [
    "def get_track(distance):#计算滑块的移动轨迹\n",
    "    distance -= 30\n",
    "    a = distance / 4\n",
    "    track = [a, a, a, a]\n",
    "    return track"
   ]
  },
  {
   "cell_type": "code",
   "execution_count": 9,
   "metadata": {},
   "outputs": [],
   "source": [
    "def shake_mouse():#模拟人手释放鼠标抖动\n",
    "    ActionChains(driver).move_by_offset(xoffset=-2, yoffset=0).perform()\n",
    "    ActionChains(driver).move_by_offset(xoffset=2, yoffset=0).perform()"
   ]
  },
  {
   "cell_type": "code",
   "execution_count": 10,
   "metadata": {},
   "outputs": [],
   "source": [
    "def operate_slider(track):#拖动滑块\n",
    "    slider_bt = driver.find_element_by_xpath('//*[@class=\"tc-drag-thumb\"]')#定位滑块\n",
    "    ActionChains(driver).click_and_hold(slider_bt).perform()#点击拖动滑块\n",
    "    \n",
    "    for i in track:\n",
    "        ActionChains(driver).move_by_offset(xoffset=i, yoffset=0).perform()\n",
    "        time.sleep(random.random() / 100)\n",
    "    time.sleep(random.random())\n",
    "    \n",
    "#     back_tracks = [-1, -0.5, -1]\n",
    "#     for i in back_tracks:\n",
    "#         time.sleep(random.random() / 100)\n",
    "#         ActionChains(driver).move_by_offset(xoffset=i, yoffset=0).perform()\n",
    "        \n",
    "    shake_mouse()\n",
    "    time.sleep(random.random())\n",
    "    ActionChains(driver).release().perform()#松开滑块\n",
    "    "
   ]
  },
  {
   "cell_type": "markdown",
   "metadata": {},
   "source": [
    "## 短信登录"
   ]
  },
  {
   "cell_type": "code",
   "execution_count": 11,
   "metadata": {},
   "outputs": [],
   "source": [
    "def tel_login():\n",
    "    #切换到iframe[0]标签\n",
    "    driver.switch_to.frame(driver.find_elements_by_tag_name(\"iframe\")[0])\n",
    "    \n",
    "    #点击并输入手机号\n",
    "    driver.find_element_by_xpath('//*[@name=\"phone\"]').click()\n",
    "    driver.find_element_by_xpath('//*[@name=\"phone\"]').send_keys(\"18939200916\")\n",
    "    \n",
    "    #点击获取验证码\n",
    "    driver.find_element_by_xpath('//*[@class=\"account-form-field-code\"]').click()\n",
    "    driver.find_element_by_id('code').click()\n",
    "    \n",
    "    #滑动验证\n",
    "    img1, img2 = get_img()\n",
    "    img1 = resize_img(img1)\n",
    "    img2 = resize_img(img2)\n",
    "    distance = get_gap_offest(img1, img2)\n",
    "    track = get_track(distance)\n",
    "    operate_slider(track)\n",
    "    time.sleep(5)\n",
    "    \n",
    "    #点击并输入验证码\n",
    "    driver.switch_to.frame(driver.find_elements_by_tag_name(\"iframe\")[0])\n",
    "    driver.find_element_by_xpath('//*[@class=\"account-form-field account-form-codes\"]/input').click()\n",
    "    verification_code = input('请输入验证码：')\n",
    "    driver.find_element_by_xpath('//*[@class=\"account-form-field account-form-codes\"]/input').send_keys(verification_code)\n",
    "    \n",
    "    #点击 登陆豆瓣\n",
    "    driver.find_element_by_xpath('//*[@class=\"account-form-field-submit \"]').click()"
   ]
  },
  {
   "cell_type": "code",
   "execution_count": 12,
   "metadata": {},
   "outputs": [
    {
     "name": "stdout",
     "output_type": "stream",
     "text": [
      "下载完成！\n",
      "请输入验证码：1566\n"
     ]
    }
   ],
   "source": [
    "tel_login()"
   ]
  },
  {
   "cell_type": "markdown",
   "metadata": {},
   "source": [
    "## 密码登录"
   ]
  },
  {
   "cell_type": "markdown",
   "metadata": {},
   "source": [
    "> 密码登录在完成滑动验证后需要扫描二维码"
   ]
  },
  {
   "cell_type": "code",
   "execution_count": null,
   "metadata": {},
   "outputs": [],
   "source": [
    "def user_login():#登录\n",
    "    input_username_password('18939200916', 'z20011225')#账号和密码\n",
    "    \n",
    "    img1, img2 = get_img()\n",
    "    img1 = resize_img(img1)\n",
    "    img2 = resize_img(img2)\n",
    "    distance = get_gap_offest(img1, img2)\n",
    "    track = get_track(distance)\n",
    "    operate_slider(track)"
   ]
  },
  {
   "cell_type": "code",
   "execution_count": 5,
   "metadata": {},
   "outputs": [],
   "source": [
    "def input_username_password(username, password):#输入账号密码登录\n",
    "    #切换到iframe[0]标签\n",
    "    driver.switch_to.frame(driver.find_elements_by_tag_name(\"iframe\")[0])\n",
    "    \n",
    "    #切换到账号密码登录\n",
    "    driver.find_element_by_class_name(\"account-tab-account\").click()\n",
    "    \n",
    "    #输入账号\n",
    "    driver.find_element_by_id(\"username\").click()\n",
    "    driver.find_element_by_id(\"username\").send_keys(username)\n",
    "    \n",
    "    #输入密码\n",
    "    driver.find_element_by_id(\"password\").click()\n",
    "    driver.find_element_by_id(\"password\").send_keys(password)\n",
    "    \n",
    "    #点击 登录豆瓣\n",
    "    driver.find_element_by_class_name(\"account-form-field-submit\").click()"
   ]
  },
  {
   "cell_type": "code",
   "execution_count": null,
   "metadata": {},
   "outputs": [],
   "source": [
    "user_login()"
   ]
  },
  {
   "cell_type": "markdown",
   "metadata": {},
   "source": [
    "# 获取电影信息"
   ]
  },
  {
   "cell_type": "code",
   "execution_count": 17,
   "metadata": {},
   "outputs": [],
   "source": [
    "def movie():#获取电影的基本信息\n",
    "    driver.find_element_by_xpath('//*[@class=\"global-nav-items\"]//li[3]').click()#点击电影\n",
    "    \n",
    "    windows = driver.window_handles\n",
    "    driver.switch_to.window(windows[-1])#切换到新打开的标签\n",
    "    \n",
    "    driver.find_element_by_xpath('//*[@class=\"nav-items\"]//li[5]').click()#点击排行榜\n",
    "    time.sleep(5)\n",
    "    \n",
    "    movie_name = driver.find_elements_by_xpath('//*[@class=\"pl2\"]/a')#名字\n",
    "    movie_info = driver.find_elements_by_xpath('//p[@class=\"pl\"]')#基本信息\n",
    "    movie_score = driver.find_elements_by_xpath('//*[@class=\"rating_nums\"]')#分数\n",
    "    movie_comment = driver.find_elements_by_xpath('//span[@class=\"pl\"]')#评价人数\n",
    "    name_list, info_list, score_list, comment_list = [], [], [], []\n",
    "    for i in range(len(movie_name)):\n",
    "        name_list.append(movie_name[i].text)\n",
    "        info_list.append(movie_info[i].text)\n",
    "        score_list.append(movie_score[i].text)\n",
    "        comment_list.append(movie_comment[i].text)\n",
    "    return name_list\n",
    "    return info_list\n",
    "    return score_list\n",
    "    return comment_list"
   ]
  },
  {
   "cell_type": "code",
   "execution_count": 24,
   "metadata": {
    "scrolled": true
   },
   "outputs": [],
   "source": [
    "movie_list = list(movie())"
   ]
  },
  {
   "cell_type": "markdown",
   "metadata": {},
   "source": [
    "# 保存信息"
   ]
  },
  {
   "cell_type": "code",
   "execution_count": 27,
   "metadata": {},
   "outputs": [],
   "source": [
    "dataframe = pd.DataFrame({\n",
    "    '名字':movie_list[0],\n",
    "    '基本信息':movie_list[1],\n",
    "    '分数':movie_list[2],\n",
    "    '评价人数':movie_list[3]\n",
    "})"
   ]
  },
  {
   "cell_type": "code",
   "execution_count": 28,
   "metadata": {},
   "outputs": [],
   "source": [
    "dataframe.to_csv(\"09_豆瓣.csv\",index=False,encoding=\"utf-8\")"
   ]
  }
 ],
 "metadata": {
  "kernelspec": {
   "display_name": "Python 3",
   "language": "python",
   "name": "python3"
  },
  "language_info": {
   "codemirror_mode": {
    "name": "ipython",
    "version": 3
   },
   "file_extension": ".py",
   "mimetype": "text/x-python",
   "name": "python",
   "nbconvert_exporter": "python",
   "pygments_lexer": "ipython3",
   "version": "3.8.5"
  }
 },
 "nbformat": 4,
 "nbformat_minor": 4
}
