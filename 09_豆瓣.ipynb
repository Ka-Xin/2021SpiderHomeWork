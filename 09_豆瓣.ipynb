{
 "cells": [
  {
   "cell_type": "code",
   "execution_count": 1,
   "metadata": {},
   "outputs": [],
   "source": [
    "import requests\n",
    "from selenium import webdriver\n",
    "from PIL import Image\n",
    "from selenium.webdriver.chrome.options import Options\n",
    "from selenium.webdriver import ChromeOptions\n",
    "from selenium.webdriver import ActionChains\n",
    "import time\n",
    "import random"
   ]
  },
  {
   "cell_type": "code",
   "execution_count": 2,
   "metadata": {},
   "outputs": [],
   "source": [
    "chrome_options=Options()\n",
    "chrome_options.add_argument('--headless')\n",
    "chrome_options.add_argument('--disable-gpu')\n",
    "option = ChromeOptions()\n",
    "option.add_experimental_option('excludeSwitches',['enable-automation'])"
   ]
  },
  {
   "cell_type": "code",
   "execution_count": 3,
   "metadata": {},
   "outputs": [],
   "source": [
    "url = \"https://www.douban.com/\""
   ]
  },
  {
   "cell_type": "code",
   "execution_count": 4,
   "metadata": {},
   "outputs": [],
   "source": [
    "driver = webdriver.Chrome(executable_path=r\"C:\\chromedriver_win32\\chromedriver.exe\",)# chrome_options=chrome_options, options=option)\n",
    "driver.get(url)"
   ]
  },
  {
   "cell_type": "code",
   "execution_count": 5,
   "metadata": {},
   "outputs": [],
   "source": [
    "def input_username_password(username, password):\n",
    "    #切换到iframe[0]标签\n",
    "    driver.switch_to.frame(driver.find_elements_by_tag_name(\"iframe\")[0])\n",
    "    #切换到账号密码登录\n",
    "    driver.find_element_by_class_name(\"account-tab-account\").click()\n",
    "    #输入账号\n",
    "    driver.find_element_by_id(\"username\").click()\n",
    "    driver.find_element_by_id(\"username\").send_keys(username)\n",
    "    #输入密码\n",
    "    driver.find_element_by_id(\"password\").click()\n",
    "    driver.find_element_by_id(\"password\").send_keys(password)\n",
    "    #点击登录\n",
    "    driver.find_element_by_class_name(\"account-form-field-submit\").click()"
   ]
  },
  {
   "cell_type": "code",
   "execution_count": 6,
   "metadata": {},
   "outputs": [],
   "source": [
    "def get_img():\n",
    "    #切换到iframe('tcaptcha_iframe')\n",
    "    driver.switch_to.frame('tcaptcha_iframe')\n",
    "    #获取缺货、完整图片的url\n",
    "    src = driver.find_element_by_xpath('//*[@class=\"tc-bg\"]/img').get_attribute('src')\n",
    "    src_background = src.replace('img_index=1', 'img_index=0')\n",
    "    #下载缺失的图片和完整的图片\n",
    "    open('./img_canque.png', 'wb').write(requests.get(url=src).content)\n",
    "    open('./img_wanzheng.png', 'wb').write(requests.get(url=src_background).content)\n",
    "    print(\"下载完成！\")\n",
    "    #加载缺失、完整的图片\n",
    "    captcha_queshi = Image.open('./img_canque.png')\n",
    "    captcha_wanzheng = Image.open('./img_wanzheng.png')\n",
    "    return captcha_queshi, captcha_wanzheng"
   ]
  },
  {
   "cell_type": "code",
   "execution_count": 19,
   "metadata": {},
   "outputs": [],
   "source": [
    "def resize_img(img):\n",
    "    #原图片为680×390px 渲染的大小为283×162px\n",
    "    a = 2.403\n",
    "    (x, y) = img.size\n",
    "    x_resize = int(x // a)\n",
    "    y_resize = int(y // a)\n",
    "    img = img.resize((x_resize, y_resize), Image.ANTIALIAS)\n",
    "    return img"
   ]
  },
  {
   "cell_type": "code",
   "execution_count": 8,
   "metadata": {},
   "outputs": [],
   "source": [
    "def is_pixel_equal(img1, img2, x, y):\n",
    "    pixel1, pixel2 = img1.load()[x, y], img2.load()[x, y]\n",
    "    sub_index = 100\n",
    "    if abs(pixel1[0] - pixel2[0]) < sub_index and abs(pixel1[1] - pixel2[1]) < sub_index and abs(pixel1[2] - pixel2[2]) < sub_index:\n",
    "        return True\n",
    "    else:\n",
    "        return False"
   ]
  },
  {
   "cell_type": "code",
   "execution_count": 9,
   "metadata": {},
   "outputs": [],
   "source": [
    "def get_gap_offest(img1, img2):\n",
    "    distance = 70\n",
    "    for i in range(distance, img1.size[0]):\n",
    "        for j in range(img1.size[1]):\n",
    "            if not is_pixel_equal(img1, img2, i, j):\n",
    "                distance = i\n",
    "                return distance\n",
    "    return distance"
   ]
  },
  {
   "cell_type": "code",
   "execution_count": 10,
   "metadata": {},
   "outputs": [],
   "source": [
    "def get_track(distance):\n",
    "    distance -= 30\n",
    "    a = distance / 4\n",
    "    track = [a, a, a, a]\n",
    "    return track"
   ]
  },
  {
   "cell_type": "code",
   "execution_count": 11,
   "metadata": {},
   "outputs": [],
   "source": [
    "def shake_mouse():\n",
    "    ActionChains(driver).move_by_offset(xoffset=-2, yoffset=0).perform()\n",
    "    ActionChains(driver).move_by_offset(xoffset=2, yoffset=0).perform()"
   ]
  },
  {
   "cell_type": "code",
   "execution_count": 12,
   "metadata": {},
   "outputs": [],
   "source": [
    "def operate_slider(track):\n",
    "    slider_bt = driver.find_element_by_xpath('//*[@class=\"tc-drag-thumb\"]')\n",
    "    ActionChains(driver).click_and_hold(slider_bt).perform()\n",
    "    for i in track:\n",
    "        ActionChains(driver).move_by_offset(xoffset=i, yoffset=0).perform()\n",
    "        time.sleep(random.random() / 100)\n",
    "    time.sleep(random.random())\n",
    "    back_tracks = [-1, -0.5, -1]\n",
    "    for i in back_tracks:\n",
    "        time.sleep(random.random() / 100)\n",
    "        ActionChains(driver).move_by_offset(xoffset=i, yoffset=0).perform()\n",
    "    shake_mouse()\n",
    "    time.sleep(random.random())\n",
    "    ActionChains(driver).release().perform()\n",
    "    "
   ]
  },
  {
   "cell_type": "code",
   "execution_count": 26,
   "metadata": {},
   "outputs": [],
   "source": [
    "def login():\n",
    "    input_username_password('18939200916', 'z20011225')\n",
    "    img1, img2 = get_img()\n",
    "    img1 = resize_img(img1)\n",
    "    img2 = resize_img(img2)\n",
    "    distance = get_gap_offest(img1, img2)\n",
    "    track = get_track(distance)\n",
    "    operate_slider(track)"
   ]
  },
  {
   "cell_type": "code",
   "execution_count": null,
   "metadata": {},
   "outputs": [],
   "source": []
  },
  {
   "cell_type": "code",
   "execution_count": null,
   "metadata": {},
   "outputs": [],
   "source": []
  },
  {
   "cell_type": "code",
   "execution_count": null,
   "metadata": {},
   "outputs": [],
   "source": []
  },
  {
   "cell_type": "code",
   "execution_count": null,
   "metadata": {},
   "outputs": [],
   "source": []
  },
  {
   "cell_type": "code",
   "execution_count": null,
   "metadata": {},
   "outputs": [],
   "source": []
  }
 ],
 "metadata": {
  "kernelspec": {
   "display_name": "Python 3",
   "language": "python",
   "name": "python3"
  },
  "language_info": {
   "codemirror_mode": {
    "name": "ipython",
    "version": 3
   },
   "file_extension": ".py",
   "mimetype": "text/x-python",
   "name": "python",
   "nbconvert_exporter": "python",
   "pygments_lexer": "ipython3",
   "version": "3.8.5"
  }
 },
 "nbformat": 4,
 "nbformat_minor": 4
}
