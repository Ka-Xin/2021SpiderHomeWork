{
 "cells": [
  {
   "cell_type": "code",
   "execution_count": 1,
   "metadata": {},
   "outputs": [
    {
     "name": "stdout",
     "output_type": "stream",
     "text": [
      "爬取成功\n"
     ]
    }
   ],
   "source": [
    "import requests\n",
    "import json\n",
    "url_id = \"https://careers.tencent.com/tencentcareer/api/post/ByCategories?timestamp=1632201408017&language=zh-cn\"\n",
    "headers={'User-Agent':'Mozilla/5.0 (Windows NT 10.0; Win64; x64) AppleWebKit/537.36 (KHTML, like Gecko) Chrome/85.0.4183.102 Safari/537.36'}\n",
    "response = requests.get(url=url_id,headers=headers)\n",
    "js = json.loads(response.text)\n",
    "list_CategoryId,i = [],0\n",
    "try:\n",
    "    while True:\n",
    "        list_CategoryId.append(js[\"Data\"][i][\"CategoryId\"])\n",
    "        i+=1\n",
    "except:\n",
    "    list_PostId = []\n",
    "    url = \"https://careers.tencent.com/tencentcareer/api/post/Query?timestamp=1632206042756\"\n",
    "    for n in range(len(list_CategoryId)):\n",
    "        for num in range(1,6):\n",
    "            data = {'timestamp': '1632203889441',\n",
    "            'countryId': '',\n",
    "            'cityId': '',\n",
    "            'bgIds': '',\n",
    "            'productId': '',\n",
    "            'categoryId': '',\n",
    "            'parentCategoryId': int(list_CategoryId[n]),\n",
    "            'attrId': '',\n",
    "            'keyword': '',\n",
    "            'pageIndex': num,\n",
    "            'pageSize': 10,\n",
    "            'language': 'zh-cn',\n",
    "            'area': 'cn'\n",
    "            }\n",
    "            response_content = requests.get(url=url,headers=headers,params=data)\n",
    "            js_content = json.loads(response_content.text)\n",
    "            for i in range(10):\n",
    "                list_PostId.append(js_content[\"Data\"][\"Posts\"][i][\"PostId\"])\n",
    "                num+=1\n",
    "f = open(\"04_腾讯招聘.txt\",\"w+\",encoding=\"utf-8\")\n",
    "for i in list_PostId:   \n",
    "    url_single = \"https://careers.tencent.com/tencentcareer/api/post/ByPostId?timestamp=1632207201291&postId=\"+i\n",
    "    data_single = {\"timestamp\": 1632207201291,\n",
    "                \"postId\": 1408377520910245888,\n",
    "                \"language\": \"zh-cn\"}\n",
    "    response_single = requests.get(url=url_single,headers=headers,params=data_single)\n",
    "    js_single = json.loads(response_single.text)\n",
    "    js_single = js_single[\"Data\"]\n",
    "    single = (js_single[\"RecruitPostName\"],#工作名称\n",
    "            js_single[\"LocationName\"],#工作地点\n",
    "            js_single[\"Responsibility\"],#工作职责\n",
    "            js_single[\"Requirement\"])#工作要求\n",
    "    f.write(str(single))\n",
    "    f.write(\"\\n\")\n",
    "print(\"爬取成功\")"
   ]
  }
 ],
 "metadata": {
  "interpreter": {
   "hash": "97ae724bfa85b9b34df7982b8bb8c7216f435b92902d749e4263f71162bea840"
  },
  "kernelspec": {
   "display_name": "Python 3",
   "language": "python",
   "name": "python3"
  },
  "language_info": {
   "codemirror_mode": {
    "name": "ipython",
    "version": 3
   },
   "file_extension": ".py",
   "mimetype": "text/x-python",
   "name": "python",
   "nbconvert_exporter": "python",
   "pygments_lexer": "ipython3",
   "version": "3.8.5"
  }
 },
 "nbformat": 4,
 "nbformat_minor": 2
}
