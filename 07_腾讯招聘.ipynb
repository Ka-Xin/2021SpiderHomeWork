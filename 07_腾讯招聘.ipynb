{
 "cells": [
  {
   "cell_type": "code",
   "execution_count": 5,
   "metadata": {},
   "outputs": [
    {
     "name": "stderr",
     "output_type": "stream",
     "text": [
      "<ipython-input-5-9fe2d9c5fe6c>:12: DeprecationWarning: use options instead of chrome_options\n",
      "  driver = webdriver.Chrome(executable_path=r\"C:\\chromedriver_win32\\chromedriver.exe\",chrome_options=chrome_options,options=option)\n"
     ]
    },
    {
     "name": "stdout",
     "output_type": "stream",
     "text": [
      "第1页完成！\n",
      "第2页完成！\n",
      "第3页完成！\n",
      "第4页完成！\n",
      "第5页完成！\n",
      "第6页完成！\n",
      "第7页完成！\n",
      "第8页完成！\n",
      "第9页完成！\n",
      "第10页完成！\n",
      "第11页完成！\n",
      "第12页完成！\n",
      "第13页完成！\n",
      "第14页完成！\n",
      "第15页完成！\n",
      "第16页完成！\n",
      "第17页完成！\n",
      "第18页完成！\n",
      "第19页完成！\n",
      "第20页完成！\n",
      "第21页完成！\n",
      "第22页完成！\n",
      "第23页完成！\n",
      "第24页完成！\n",
      "第25页完成！\n",
      "第26页完成！\n",
      "第27页完成！\n",
      "第28页完成！\n",
      "第29页完成！\n",
      "第30页完成！\n",
      "第31页完成！\n",
      "第32页完成！\n",
      "第33页完成！\n",
      "第34页完成！\n",
      "第35页完成！\n",
      "第36页完成！\n",
      "第37页完成！\n",
      "第38页完成！\n",
      "第39页完成！\n",
      "第40页完成！\n",
      "第41页完成！\n",
      "第42页完成！\n",
      "第43页完成！\n",
      "第44页完成！\n",
      "第45页完成！\n",
      "第46页完成！\n",
      "第47页完成！\n",
      "第48页完成！\n",
      "第49页完成！\n",
      "第50页完成！\n"
     ]
    }
   ],
   "source": [
    "from selenium import webdriver\r\n",
    "from selenium.webdriver.chrome.options import Options\r\n",
    "chrome_options=Options()\r\n",
    "chrome_options.add_argument('--headless')\r\n",
    "chrome_options.add_argument('--disable-gpu')\r\n",
    "from selenium.webdriver import ChromeOptions\r\n",
    "option = ChromeOptions()\r\n",
    "option.add_experimental_option('excludeSwitches',['enable-automation'])\r\n",
    "list_name, list_info_name, list_info_area, list_info_task, list_info_time, list_task = [], [], [], [], [], []\r\n",
    "for num in range(1,51):\r\n",
    "    url = \"https://careers.tencent.com/search.html?query=ot_40001001,ot_40001002,ot_40001003,ot_40001004,ot_40001005,ot_40001006&index=\" + str(num)\r\n",
    "    driver = webdriver.Chrome(executable_path=r\"C:\\chromedriver_win32\\chromedriver.exe\",chrome_options=chrome_options,options=option)\r\n",
    "    driver.get(url)\r\n",
    "    list_name_elements = driver.find_elements_by_xpath('//*[@class=\"recruit-title\"]') #名字\r\n",
    "    list_info_elements = driver.find_elements_by_xpath('//*[@class=\"recruit-tips\"]') #信息\r\n",
    "    list_task_elements = driver.find_elements_by_xpath('//*[@class=\"recruit-text\"]') #负责内容\r\n",
    "    for i in range(len(list_name_elements)):\r\n",
    "        list_info = list_info_elements[i].text.split('|')\r\n",
    "        list_name.append(list_name_elements[i].text)\r\n",
    "        list_info_name.append(list_info[0])\r\n",
    "        list_info_area.append(list_info[1])\r\n",
    "        list_info_task.append(list_info[2])\r\n",
    "        list_info_time.append(list_info[-1])\r\n",
    "        list_task.append(list_task_elements[i].text)\r\n",
    "    print(\"第\" + str(num) + \"页完成！\")\r\n",
    "\r\n",
    "import pandas as pd\r\n",
    "dataframe = pd.DataFrame({\r\n",
    "    '职位名称':list_name,\r\n",
    "    '名称':list_info_name,\r\n",
    "    '地点':list_info_area,\r\n",
    "    '分类':list_info_task,\r\n",
    "    '时间':list_info_time,\r\n",
    "    '工作内容':list_task\r\n",
    "})\r\n",
    "\r\n",
    "dataframe.to_csv(\"07_腾讯招聘.csv\",index=False,encoding=\"utf-8\")"
   ]
  }
 ],
 "metadata": {
  "interpreter": {
   "hash": "97ae724bfa85b9b34df7982b8bb8c7216f435b92902d749e4263f71162bea840"
  },
  "kernelspec": {
   "display_name": "Python 3",
   "language": "python",
   "name": "python3"
  },
  "language_info": {
   "codemirror_mode": {
    "name": "ipython",
    "version": 3
   },
   "file_extension": ".py",
   "mimetype": "text/x-python",
   "name": "python",
   "nbconvert_exporter": "python",
   "pygments_lexer": "ipython3",
   "version": "3.8.5"
  }
 },
 "nbformat": 4,
 "nbformat_minor": 4
}
