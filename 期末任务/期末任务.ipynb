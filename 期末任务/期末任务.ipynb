{
 "cells": [
  {
   "cell_type": "markdown",
   "metadata": {},
   "source": [
    "# 期末作业"
   ]
  },
  {
   "cell_type": "markdown",
   "metadata": {},
   "source": [
    "## 一、任务"
   ]
  },
  {
   "cell_type": "markdown",
   "metadata": {},
   "source": [
    "### 爬取一百页前程无忧全国关于大数据的职位内容"
   ]
  },
  {
   "cell_type": "markdown",
   "metadata": {},
   "source": [
    "## 二、获取关于大数据的职位的url"
   ]
  },
  {
   "cell_type": "markdown",
   "metadata": {},
   "source": [
    "### 1.使用selenium输入大数据并查询"
   ]
  },
  {
   "cell_type": "code",
   "execution_count": 1,
   "id": "1e54b00e",
   "metadata": {},
   "outputs": [],
   "source": [
    "from selenium import webdriver\n",
    "from selenium.webdriver.chrome.options import Options\n",
    "chrome_options=Options()\n",
    "chrome_options.add_argument('--headless')\n",
    "chrome_options.add_argument('--disable-gpu')\n",
    "from selenium.webdriver import ChromeOptions\n",
    "option = ChromeOptions()\n",
    "option.add_experimental_option('excludeSwitches',['enable-automation'])\n",
    "from selenium.webdriver.common.keys import Keys"
   ]
  },
  {
   "cell_type": "code",
   "execution_count": 2,
   "id": "ccbb3921",
   "metadata": {},
   "outputs": [
    {
     "name": "stderr",
     "output_type": "stream",
     "text": [
      "<ipython-input-2-9db0d9d47b90>:2: DeprecationWarning: use options instead of chrome_options\n",
      "  driver = webdriver.Chrome(executable_path=r\"D:\\chromedriver_win32\\chromedriver.exe\", chrome_options=chrome_options, options=option)\n"
     ]
    }
   ],
   "source": [
    "url = \"https://www.51job.com/\"\n",
    "driver = webdriver.Chrome(executable_path=r\"D:\\chromedriver_win32\\chromedriver.exe\", chrome_options=chrome_options, options=option)\n",
    "driver.get(url)"
   ]
  },
  {
   "cell_type": "code",
   "execution_count": 3,
   "id": "dd079463",
   "metadata": {},
   "outputs": [],
   "source": [
    "driver.find_element_by_xpath('//*[@id=\"kwdselectid\"]').send_keys('大数据')\n",
    "driver.find_element_by_xpath('//*[@id=\"kwdselectid\"]').send_keys(Keys.ENTER)"
   ]
  },
  {
   "cell_type": "markdown",
   "metadata": {},
   "source": [
    "### 2.获得查询后的url"
   ]
  },
  {
   "cell_type": "code",
   "execution_count": 4,
   "id": "5e1c3ceb",
   "metadata": {},
   "outputs": [],
   "source": [
    "search_url = driver.current_url"
   ]
  },
  {
   "cell_type": "code",
   "execution_count": 5,
   "metadata": {},
   "outputs": [],
   "source": [
    "search_url_list = []"
   ]
  },
  {
   "cell_type": "code",
   "execution_count": 6,
   "metadata": {},
   "outputs": [],
   "source": [
    "# 100个url\n",
    "for i in range(1,101):\n",
    "    search_url_list.append(search_url.replace('1.html',f'{i}.html'))"
   ]
  },
  {
   "cell_type": "markdown",
   "metadata": {},
   "source": [
    "## 三、获取职位的内容"
   ]
  },
  {
   "cell_type": "markdown",
   "metadata": {},
   "source": [
    "### 1.获取json内容"
   ]
  },
  {
   "cell_type": "code",
   "execution_count": 7,
   "metadata": {},
   "outputs": [],
   "source": [
    "import requests"
   ]
  },
  {
   "cell_type": "markdown",
   "metadata": {},
   "source": [
    "#### xpath获取json内容"
   ]
  },
  {
   "cell_type": "code",
   "execution_count": 8,
   "metadata": {},
   "outputs": [],
   "source": [
    "from lxml import etree\n",
    "def get_info_xpath(url):\n",
    "    headers = {\n",
    "        'User-Agent': 'Mozilla/5.0 (Windows NT 10.0; Win64; x64) AppleWebKit/537.36 (KHTML, like Gecko) Chrome/95.0.4638.54 Safari/537.36'\n",
    "    }\n",
    "    response = requests.get(url = search_url, headers = headers)\n",
    "\n",
    "    text = etree.HTML(response.text)\n",
    "    text = text.xpath('//body/script[@type=\"text/javascript\"][2]/text()')\n",
    "    info_json_xpath = text[0].split('window.__SEARCH_RESULT__ = ')[-1] #xpath获取json内容\n",
    "\n",
    "    return info_json_xpath"
   ]
  },
  {
   "cell_type": "markdown",
   "metadata": {},
   "source": [
    "#### re获取json内容"
   ]
  },
  {
   "cell_type": "code",
   "execution_count": 9,
   "metadata": {},
   "outputs": [],
   "source": [
    "# re获取json内容\n",
    "\n",
    "import re\n",
    "def get_info_re(url):\n",
    "    headers = {\n",
    "        'User-Agent': 'Mozilla/5.0 (Windows NT 10.0; Win64; x64) AppleWebKit/537.36 (KHTML, like Gecko) Chrome/95.0.4638.54 Safari/537.36'\n",
    "    }\n",
    "    response = requests.get(url = search_url, headers = headers)\n",
    "\n",
    "    info_json_re = re.findall('window.__SEARCH_RESULT__ = (.*?)</script>', response.text, re.S)[0] # 正则表达式获取json内容\n",
    "\n",
    "    return info_json_re"
   ]
  },
  {
   "cell_type": "markdown",
   "metadata": {},
   "source": [
    "### 2.通过json获取数据"
   ]
  },
  {
   "cell_type": "code",
   "execution_count": 10,
   "metadata": {},
   "outputs": [],
   "source": [
    "import json"
   ]
  },
  {
   "cell_type": "code",
   "execution_count": 11,
   "metadata": {},
   "outputs": [],
   "source": [
    "def get_info(info_json):\n",
    "    info_list = []\n",
    "    data_json = json.loads(info_json)\n",
    "\n",
    "    for i in data_json['engine_jds']:\n",
    "        info_dict = {\n",
    "            '标题': i['job_name'],\n",
    "            '公司名字': i['company_name'],\n",
    "            '城市': i['workarea_text'],\n",
    "            '薪资': i['providesalary_text'],\n",
    "            '招聘信息': '|'.join(i['attribute_text']),\n",
    "            '公司属性': i['companyind_text'],\n",
    "            '公司规模': i['companysize_text'],\n",
    "            '企业性质': i['companytype_text'],\n",
    "            '招聘发布日期': i['issuedate'],\n",
    "            '公司详情页': i['company_href'],\n",
    "            '招聘详情页': i['job_href'],\n",
    "        }\n",
    "        info_list.append(info_dict) # 将页的所有条信息保存到info_list中并返回\n",
    "\n",
    "    return info_list"
   ]
  },
  {
   "cell_type": "markdown",
   "metadata": {},
   "source": [
    "## 四、保存获取的内容"
   ]
  },
  {
   "cell_type": "code",
   "execution_count": 12,
   "metadata": {},
   "outputs": [],
   "source": [
    "import csv"
   ]
  },
  {
   "cell_type": "code",
   "execution_count": 13,
   "metadata": {},
   "outputs": [],
   "source": [
    "f_csv = open('./大数据招聘数据.csv', encoding='ANSI', newline='', mode='w+')\n",
    "\n",
    "csv_writer = csv.DictWriter(f_csv, fieldnames=[\n",
    "    '标题',\n",
    "    '公司名字',\n",
    "    '城市',\n",
    "    '薪资',\n",
    "    '招聘信息',\n",
    "    '公司属性',\n",
    "    '公司规模',\n",
    "    '企业性质',\n",
    "    '招聘发布日期',\n",
    "    '公司详情页',\n",
    "    '招聘详情页',\n",
    "])"
   ]
  },
  {
   "cell_type": "code",
   "execution_count": 14,
   "metadata": {},
   "outputs": [
    {
     "name": "stdout",
     "output_type": "stream",
     "text": [
      "第1页写入完成！\n",
      "第2页写入完成！\n",
      "第3页写入完成！\n",
      "第4页写入完成！\n",
      "第5页写入完成！\n",
      "第6页写入完成！\n",
      "第7页写入完成！\n",
      "第8页写入完成！\n",
      "第9页写入完成！\n",
      "第10页写入完成！\n",
      "第11页写入完成！\n",
      "第12页写入完成！\n",
      "第13页写入完成！\n",
      "第14页写入完成！\n",
      "第15页写入完成！\n",
      "第16页写入完成！\n",
      "第17页写入完成！\n",
      "第18页写入完成！\n",
      "第19页写入完成！\n",
      "第20页写入完成！\n",
      "第21页写入完成！\n",
      "第22页写入完成！\n",
      "第23页写入完成！\n",
      "第24页写入完成！\n",
      "第25页写入完成！\n",
      "第26页写入完成！\n",
      "第27页写入完成！\n",
      "第28页写入完成！\n",
      "第29页写入完成！\n",
      "第30页写入完成！\n",
      "第31页写入完成！\n",
      "第32页写入完成！\n",
      "第33页写入完成！\n",
      "第34页写入完成！\n",
      "第35页写入完成！\n",
      "第36页写入完成！\n",
      "第37页写入完成！\n",
      "第38页写入完成！\n",
      "第39页写入完成！\n",
      "第40页写入完成！\n",
      "第41页写入完成！\n",
      "第42页写入完成！\n",
      "第43页写入完成！\n",
      "第44页写入完成！\n",
      "第45页写入完成！\n",
      "第46页写入完成！\n",
      "第47页写入完成！\n",
      "第48页写入完成！\n",
      "第49页写入完成！\n",
      "第50页写入完成！\n",
      "第51页写入完成！\n",
      "第52页写入完成！\n",
      "第53页写入完成！\n",
      "第54页写入完成！\n",
      "第55页写入完成！\n",
      "第56页写入完成！\n",
      "第57页写入完成！\n",
      "第58页写入完成！\n",
      "第59页写入完成！\n",
      "第60页写入完成！\n",
      "第61页写入完成！\n",
      "第62页写入完成！\n",
      "第63页写入完成！\n",
      "第64页写入完成！\n",
      "第65页写入完成！\n",
      "第66页写入完成！\n",
      "第67页写入完成！\n",
      "第68页写入完成！\n",
      "第69页写入完成！\n",
      "第70页写入完成！\n",
      "第71页写入完成！\n",
      "第72页写入完成！\n",
      "第73页写入完成！\n",
      "第74页写入完成！\n",
      "第75页写入完成！\n",
      "第76页写入完成！\n",
      "第77页写入完成！\n",
      "第78页写入完成！\n",
      "第79页写入完成！\n",
      "第80页写入完成！\n",
      "第81页写入完成！\n",
      "第82页写入完成！\n",
      "第83页写入完成！\n",
      "第84页写入完成！\n",
      "第85页写入完成！\n",
      "第86页写入完成！\n",
      "第87页写入完成！\n",
      "第88页写入完成！\n",
      "第89页写入完成！\n",
      "第90页写入完成！\n",
      "第91页写入完成！\n",
      "第92页写入完成！\n",
      "第93页写入完成！\n",
      "第94页写入完成！\n",
      "第95页写入完成！\n",
      "第96页写入完成！\n",
      "第97页写入完成！\n",
      "第98页写入完成！\n",
      "第99页写入完成！\n",
      "第100页写入完成！\n"
     ]
    }
   ],
   "source": [
    "for i in range(len(search_url_list)):\n",
    "    info_json = get_info_re(search_url_list[i])\n",
    "    info_list = get_info(info_json)\n",
    "    for info in info_list:    \n",
    "        csv_writer.writerow(info)\n",
    "    print(f'第{i+1}页写入完成！')"
   ]
  }
 ],
 "metadata": {
  "interpreter": {
   "hash": "34dfee18d5f4a96df9a8fcc719c91cf50e8ed50de2aa108bf45cd20982063274"
  },
  "kernelspec": {
   "display_name": "Python 3.8.8 64-bit ('base': conda)",
   "name": "python3"
  },
  "language_info": {
   "codemirror_mode": {
    "name": "ipython",
    "version": 3
   },
   "file_extension": ".py",
   "mimetype": "text/x-python",
   "name": "python",
   "nbconvert_exporter": "python",
   "pygments_lexer": "ipython3",
   "version": "3.8.8"
  }
 },
 "nbformat": 4,
 "nbformat_minor": 5
}
