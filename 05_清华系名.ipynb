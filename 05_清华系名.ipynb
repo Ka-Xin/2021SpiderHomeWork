{
 "cells": [
  {
   "cell_type": "code",
   "execution_count": 4,
   "metadata": {},
   "outputs": [],
   "source": [
    "from lxml import etree\r\n",
    "import requests"
   ]
  },
  {
   "cell_type": "code",
   "execution_count": 17,
   "metadata": {},
   "outputs": [],
   "source": [
    "url = \"https://www.tsinghua.edu.cn/yxsz.htm\"\r\n",
    "headers={\r\n",
    "    'User-Agent':'Mozilla/5.0 (Windows NT 10.0; Win64; x64) AppleWebKit/537.36 (KHTML, like Gecko) Chrome/85.0.4183.102 Safari/537.36'\r\n",
    "    }\r\n",
    "response = requests.get(url=url, headers=headers)\r\n",
    "response.encoding=\"utf-8\""
   ]
  },
  {
   "cell_type": "code",
   "execution_count": 18,
   "metadata": {},
   "outputs": [],
   "source": [
    "with open(\"院系设置.html\", \"w\", encoding=\"utf-8\") as fp:\r\n",
    "    fp.write(response.text)"
   ]
  },
  {
   "cell_type": "code",
   "execution_count": 19,
   "metadata": {},
   "outputs": [
    {
     "name": "stdout",
     "output_type": "stream",
     "text": [
      "['建筑系', '城市规划系', '建筑技术科学系', '景观学系', '会计系', '经济系', '金融系', '创新创业与战略系', '领导力与组织管理系', '管理科学与工程系', '市场营销系', '土木工程系', '水利水电工程系', '建设管理系', '环境工程系', '环境科学系', '环境规划与管理系', '机械工程系', '精密仪器系', '能源与动力工程系', '车辆与运载学院', '工业工程系', '基础工业训练中心', '中国语言文学系', '外国语言文学系', '历史系', '科学史系', '哲学系', '社会学系', '政治学系', '国际关系学系', '心理学系', '经济学研究所', '工程力学系', '航空宇航工程系', '电子工程系', '计算机科学与技术系', '自动化系', '集成电路学院', '网络科学与网络空间研究院', '软件学院', '信息国家研究中心', '艺术史论系', '工业设计系', '环境艺术设计系', '陶瓷艺术设计系', '视觉传达设计系', '染织服装艺术设计系', '信息艺术设计系', '工艺美术系', '绘画系', '雕塑系', '数学科学系', '物理系', '化学系', '地球系统科学系', '天文系', '生物医学工程系', '基础医学系', '临床医学院']\n"
     ]
    }
   ],
   "source": [
    "html = etree.parse(\"院系设置.html\", etree.HTMLParser())\r\n",
    "# html=etree.HTML(response.text)\r\n",
    "r = html.xpath('//*[@id=\"jgBoxSlide\"]/div/div/div/div/div/ul/li/a/text()')\r\n",
    "print(r)"
   ]
  },
  {
   "cell_type": "code",
   "execution_count": null,
   "metadata": {},
   "outputs": [],
   "source": []
  }
 ],
 "metadata": {
  "interpreter": {
   "hash": "97ae724bfa85b9b34df7982b8bb8c7216f435b92902d749e4263f71162bea840"
  },
  "kernelspec": {
   "display_name": "Python 3",
   "language": "python",
   "name": "python3"
  },
  "language_info": {
   "codemirror_mode": {
    "name": "ipython",
    "version": 3
   },
   "file_extension": ".py",
   "mimetype": "text/x-python",
   "name": "python",
   "nbconvert_exporter": "python",
   "pygments_lexer": "ipython3",
   "version": "3.8.5"
  }
 },
 "nbformat": 4,
 "nbformat_minor": 4
}
