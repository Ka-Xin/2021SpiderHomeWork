{
 "cells": [
  {
   "cell_type": "code",
   "execution_count": 1,
   "metadata": {},
   "outputs": [],
   "source": [
    "import requests\n",
    "from threading import Thread\n",
    "from lxml import etree\n",
    "import json"
   ]
  },
  {
   "cell_type": "code",
   "execution_count": 2,
   "metadata": {},
   "outputs": [],
   "source": [
    "url = 'https://www.pearvideo.com/'"
   ]
  },
  {
   "cell_type": "code",
   "execution_count": 3,
   "metadata": {},
   "outputs": [],
   "source": [
    "def get_info():\n",
    "    headers={\n",
    "    'User-Agent':'Mozilla/5.0 (Windows NT 10.0; Win64; x64) AppleWebKit/537.36 (KHTML, like Gecko) Chrome/85.0.4183.102 Safari/537.36'\n",
    "    }\n",
    "    response = requests.get(url=url, headers=headers)\n",
    "    res = etree.HTML(response.text)\n",
    "    id_list = res.xpath('//a[@class=\"vervideo-lilink actplay\"]/@href')\n",
    "    id_list = [id_list[i][6:] for i in range(len(id_list))] #获取视频ID\n",
    "    name_list = res.xpath('//*[@class=\"vervideo-name\"]/text()') + res.xpath('//*[@class=\"vervideo-title\"]/text()') #获取视频名字\n",
    "    return id_list, name_list"
   ]
  },
  {
   "cell_type": "code",
   "execution_count": 7,
   "metadata": {},
   "outputs": [],
   "source": [
    "def get_url(id_list, name_list):\n",
    "    for i in range(5):\n",
    "        new_headers = {'User-Agent': 'Mozilla/5.0 (Windows NT 10.0; Win64; x64) AppleWebKit/537.36 (KHTML, like Gecko) Chrome/88.0.4324.104 Safari/537.36', \n",
    "                     'Referer': f'https://www.pearvideo.com/{id_list[i]}'}\n",
    "        response = requests.get(url=f'https://www.pearvideo.com/videoStatus.jsp?contId={id_list[i]}', headers=new_headers).json()\n",
    "        video_url = response[\"videoInfo\"][\"videos\"][\"srcUrl\"]\n",
    "        video_url = video_url.replace(video_url.split(\"/\")[-1].split(\"-\")[0], \"cont-\" + id_list[i])\n",
    "        headers={\n",
    "        'User-Agent':'Mozilla/5.0 (Windows NT 10.0; Win64; x64) AppleWebKit/537.36 (KHTML, like Gecko) Chrome/85.0.4183.102 Safari/537.36'\n",
    "        }\n",
    "        video = requests.get(url=video_url, headers=headers).content \n",
    "        with open(f\"./11_多线程_梨视频/{name_list[i]}.mp4\", \"wb\") as f: \n",
    "            print(f\"正在下载视频 {name_list[i]} ...\") \n",
    "            f.write(video) \n",
    "            print(f\"视频 {name_list[i]} 下载完成！\") "
   ]
  },
  {
   "cell_type": "code",
   "execution_count": 10,
   "metadata": {},
   "outputs": [],
   "source": [
    "t = Thread(target=get_url, args=(get_info()[0], get_info()[1]))\n",
    "t.start()"
   ]
  },
  {
   "cell_type": "code",
   "execution_count": 11,
   "metadata": {},
   "outputs": [
    {
     "data": {
      "text/plain": [
       "<Thread(Thread-6, started 23840)>"
      ]
     },
     "execution_count": 11,
     "metadata": {},
     "output_type": "execute_result"
    },
    {
     "name": "stdout",
     "output_type": "stream",
     "text": [
      "正在下载视频 90岁大爷贴身照顾瘫痪妻子，还帮助养老院其他老人 ...\n",
      "视频 90岁大爷贴身照顾瘫痪妻子，还帮助养老院其他老人 下载完成！\n",
      "正在下载视频 80后女汉子打理千亩农田：无人机除草，全机械作业 ...\n",
      "视频 80后女汉子打理千亩农田：无人机除草，全机械作业 下载完成！\n",
      "正在下载视频 宝藏老师｜物理老师会“魔术”，与学生手拉手就能点亮灯泡 ...\n",
      "视频 宝藏老师｜物理老师会“魔术”，与学生手拉手就能点亮灯泡 下载完成！\n",
      "正在下载视频 重庆2岁家猫成职业车模，出场费最高上万，服装比小姐姐还多 ...\n",
      "视频 重庆2岁家猫成职业车模，出场费最高上万，服装比小姐姐还多 下载完成！\n",
      "正在下载视频 魔幻的重庆深不可测，地下106米藏着全国最深地铁站 ...\n",
      "视频 魔幻的重庆深不可测，地下106米藏着全国最深地铁站 下载完成！\n"
     ]
    }
   ],
   "source": [
    "t"
   ]
  },
  {
   "cell_type": "code",
   "execution_count": null,
   "metadata": {},
   "outputs": [],
   "source": []
  }
 ],
 "metadata": {
  "kernelspec": {
   "display_name": "Python 3",
   "language": "python",
   "name": "python3"
  },
  "language_info": {
   "codemirror_mode": {
    "name": "ipython",
    "version": 3
   },
   "file_extension": ".py",
   "mimetype": "text/x-python",
   "name": "python",
   "nbconvert_exporter": "python",
   "pygments_lexer": "ipython3",
   "version": "3.8.5"
  }
 },
 "nbformat": 4,
 "nbformat_minor": 4
}
