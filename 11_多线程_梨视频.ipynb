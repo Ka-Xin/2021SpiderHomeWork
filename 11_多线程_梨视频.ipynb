{
 "cells": [
  {
   "cell_type": "code",
   "execution_count": 2,
   "metadata": {},
   "outputs": [],
   "source": [
    "import requests\n",
    "from multiprocessing.dummy import Pool\n",
    "from lxml import etree\n",
    "import json"
   ]
  },
  {
   "cell_type": "code",
   "execution_count": 3,
   "metadata": {},
   "outputs": [],
   "source": [
    "url = 'https://www.pearvideo.com/' "
   ]
  },
  {
   "cell_type": "code",
   "execution_count": 86,
   "metadata": {},
   "outputs": [],
   "source": [
    "down_url_list, down_list = [], []\n",
    "\n",
    "#获取首页的内容\n",
    "headers={\n",
    "'User-Agent':'Mozilla/5.0 (Windows NT 10.0; Win64; x64) AppleWebKit/537.36 (KHTML, like Gecko) Chrome/85.0.4183.102 Safari/537.36'\n",
    "}\n",
    "response = requests.get(url=url, headers=headers)\n",
    "res = etree.HTML(response.text)\n",
    "\n",
    "#获取视频的ID\n",
    "id_list = res.xpath('//a[@class=\"vervideo-lilink actplay\"]/@href')\n",
    "id_list = [id_list[i][6:] for i in range(5)]\n",
    "#获取视频的json格式的url\n",
    "url_list = [f'https://www.pearvideo.com/videoStatus.jsp?contId={id_list[i]}' for i in range(5)]\n",
    "#获取视频名字\n",
    "name_list = (res.xpath('//*[@class=\"vervideo-name\"]/text()') + res.xpath('//*[@class=\"vervideo-title\"]/text()'))[0:5]\n",
    "\n",
    "#根据json格式获取视频的下载url\n",
    "for i in range(len(url_list)):\n",
    "    new_headers = {'User-Agent': 'Mozilla/5.0 (Windows NT 10.0; Win64; x64) AppleWebKit/537.36 (KHTML, like Gecko) Chrome/88.0.4324.104 Safari/537.36', 'Referer': f'https://www.pearvideo.com/{id_list[i]}'}\n",
    "    response = requests.get(url=url_list[i], headers=new_headers).json() #获取json格式\n",
    "    video_url = response[\"videoInfo\"][\"videos\"][\"srcUrl\"] #获取下载url\n",
    "    video_url = video_url.replace(video_url.split(\"/\")[-1].split(\"-\")[0], \"cont-\" + id_list[i])\n",
    "    down_url_list.append(video_url)\n",
    "\n",
    "#将下载url和视频名字写入列表中，方便多线程使用\n",
    "for i in range(len(down_url_list)):\n",
    "    down_list.append([down_url_list[i],name_list[i]])"
   ]
  },
  {
   "cell_type": "code",
   "execution_count": 93,
   "metadata": {},
   "outputs": [],
   "source": [
    "def down_videos(down_list):\n",
    "\n",
    "    url = down_list[0] #url\n",
    "    name = down_list[1] #name\n",
    "    \n",
    "    headers={\n",
    "    'User-Agent':'Mozilla/5.0 (Windows NT 10.0; Win64; x64) AppleWebKit/537.36 (KHTML, like Gecko) Chrome/85.0.4183.102 Safari/537.36'\n",
    "    }\n",
    "    print(f\"正在下载视频 {name} ...\") \n",
    "    video = requests.get(url=url, headers=headers).content #下载视频\n",
    "    \n",
    "    with open(f\"./11_多线程_梨视频/{name}.mp4\", \"wb\") as f: \n",
    "        f.write(video) \n",
    "        print(f\"视频 {name} 下载完成！\") "
   ]
  },
  {
   "cell_type": "code",
   "execution_count": 94,
   "metadata": {},
   "outputs": [],
   "source": [
    "# 使用多线程处理\n",
    "pool = Pool(5)\n",
    "pool.map(down_videos, down_list)"
   ]
  }
 ],
 "metadata": {
  "interpreter": {
   "hash": "97ae724bfa85b9b34df7982b8bb8c7216f435b92902d749e4263f71162bea840"
  },
  "kernelspec": {
   "display_name": "Python 3.8.5 64-bit ('base': conda)",
   "name": "python3"
  },
  "language_info": {
   "codemirror_mode": {
    "name": "ipython",
    "version": 3
   },
   "file_extension": ".py",
   "mimetype": "text/x-python",
   "name": "python",
   "nbconvert_exporter": "python",
   "pygments_lexer": "ipython3",
   "version": "3.8.5"
  }
 },
 "nbformat": 4,
 "nbformat_minor": 4
}
