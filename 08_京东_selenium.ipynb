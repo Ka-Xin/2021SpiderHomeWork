{
 "cells": [
  {
   "cell_type": "code",
   "execution_count": 1,
   "metadata": {},
   "outputs": [],
   "source": [
    "from selenium import webdriver\n",
    "from selenium.webdriver.chrome.options import Options\n",
    "chrome_options=Options()\n",
    "chrome_options.add_argument('--headless')\n",
    "chrome_options.add_argument('--disable-gpu')\n",
    "from selenium.webdriver import ChromeOptions\n",
    "option = ChromeOptions()\n",
    "option.add_experimental_option('excludeSwitches',['enable-automation'])"
   ]
  },
  {
   "cell_type": "code",
   "execution_count": 2,
   "metadata": {},
   "outputs": [
    {
     "name": "stderr",
     "output_type": "stream",
     "text": [
      "<ipython-input-2-fb704f4410c0>:2: DeprecationWarning: use options instead of chrome_options\n",
      "  driver = webdriver.Chrome(executable_path=r\"C:\\chromedriver_win32\\chromedriver.exe\",chrome_options=chrome_options,options=option)\n"
     ]
    }
   ],
   "source": [
    "url = \"https://jd.com\"\n",
    "driver = webdriver.Chrome(executable_path=r\"C:\\chromedriver_win32\\chromedriver.exe\",chrome_options=chrome_options,options=option)\n",
    "driver.get(url)"
   ]
  },
  {
   "cell_type": "code",
   "execution_count": 3,
   "metadata": {},
   "outputs": [],
   "source": [
    "#输入搜索的内容\n",
    "driver.find_element_by_xpath('//*[@id=\"key\"]').send_keys('iphone13')"
   ]
  },
  {
   "cell_type": "code",
   "execution_count": 4,
   "metadata": {},
   "outputs": [],
   "source": [
    "#点击搜索\n",
    "from selenium.webdriver.common.action_chains import ActionChains\n",
    "\n",
    "search = driver.find_element_by_xpath('//*[@id=\"search\"]/div/div[2]/button')\n",
    "ActionChains(driver).double_click(search).perform()"
   ]
  },
  {
   "cell_type": "code",
   "execution_count": 5,
   "metadata": {},
   "outputs": [],
   "source": [
    "# 滚动到最低端\n",
    "js = 'window.scrollTo(0,document.body.scrollHeight)' \n",
    "driver.execute_script(js)"
   ]
  },
  {
   "cell_type": "code",
   "execution_count": 21,
   "metadata": {},
   "outputs": [],
   "source": [
    "#获取数据\n",
    "list_price, list_name, list_comment, list_shopname = [], [], [], []\n",
    "\n",
    "list_price_elements = driver.find_elements_by_xpath('//div[@class=\"gl-i-wrap\"]/div[@class=\"p-price\"]')\n",
    "list_name_elements = driver.find_elements_by_xpath('//div[@class=\"p-name p-name-type-2\"]')\n",
    "list_comment_elements = driver.find_elements_by_xpath('//div[@class=\"p-commit\"]/strong')\n",
    "list_shopname_elements = driver.find_elements_by_xpath('//div[@class=\"p-shop\"]')\n",
    "\n",
    "for i in range(len(list_price_elements)):\n",
    "    list_price.append(list_price_elements[i].text.replace('\\n', ''))\n",
    "    list_name.append(list_name_elements[i].text.replace('\\n', ''))\n",
    "    list_comment.append(list_comment_elements[i].text)\n",
    "    list_shopname.append(list_shopname_elements[i].text)"
   ]
  },
  {
   "cell_type": "code",
   "execution_count": 22,
   "metadata": {},
   "outputs": [],
   "source": [
    "#保存到本地\n",
    "import pandas as pd\n",
    "\n",
    "dataframe = pd.DataFrame({\n",
    "    '价格':list_price,\n",
    "    '名称':list_name,\n",
    "    '评论数':list_comment,\n",
    "    '店铺名':list_shopname\n",
    "})\n",
    "\n",
    "dataframe.to_csv(\"08_京东_selenium.csv\",index=False,encoding=\"utf-8\")"
   ]
  }
 ],
 "metadata": {
  "interpreter": {
   "hash": "97ae724bfa85b9b34df7982b8bb8c7216f435b92902d749e4263f71162bea840"
  },
  "kernelspec": {
   "display_name": "Python 3",
   "language": "python",
   "name": "python3"
  },
  "language_info": {
   "codemirror_mode": {
    "name": "ipython",
    "version": 3
   },
   "file_extension": ".py",
   "mimetype": "text/x-python",
   "name": "python",
   "nbconvert_exporter": "python",
   "pygments_lexer": "ipython3",
   "version": "3.8.5"
  }
 },
 "nbformat": 4,
 "nbformat_minor": 4
}
