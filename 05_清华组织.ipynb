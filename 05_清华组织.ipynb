{
 "cells": [
  {
   "cell_type": "code",
   "execution_count": 1,
   "source": [
    "from lxml import etree\r\n",
    "import requests"
   ],
   "outputs": [],
   "metadata": {}
  },
  {
   "cell_type": "code",
   "execution_count": 2,
   "source": [
    "url = \"https://www.tsinghua.edu.cn/xxgk/zzjg.htm\"\r\n",
    "headers={\r\n",
    "    'User-Agent':'Mozilla/5.0 (Windows NT 10.0; Win64; x64) AppleWebKit/537.36 (KHTML, like Gecko) Chrome/85.0.4183.102 Safari/537.36'\r\n",
    "    }\r\n",
    "response = requests.get(url=url, headers=headers)\r\n",
    "response.encoding=\"utf-8\""
   ],
   "outputs": [],
   "metadata": {}
  },
  {
   "cell_type": "code",
   "execution_count": 3,
   "source": [
    "html = etree.HTML(response.text)\r\n",
    "\r\n",
    "r = html.xpath('/html/body/div/div/div/div/ul/li/a/i/text()')\r\n",
    "print(r)"
   ],
   "outputs": [
    {
     "output_type": "stream",
     "name": "stdout",
     "text": [
      "['党委办公室', '党委组织部', '党委宣传部', '党委统战部', '党委教师工作部', '党委学生部', '党委研究生工作部', '党委离退休工作部', '党委保卫部', '党委武装部', '党委巡察工作办公室', '纪委办公室', '工会', '共青团委员会', '校长办公室', '教务处', '研究生院', '科研院', '文科建设处', '发展规划处', '国际合作与交流处', '港澳台办公室', '人事处', '学生处', '终身教育处', '离退休工作处', '实验室管理处', '总会计师办公室', '财务处', '监察室', '审计室', '基建规划处', '资产管理处', '总务长办公室', '后勤管理处', '保卫处', '新闻中心', '信息化工作办公室', '政策研究室', '文化建设办公室', '法治与法务办公室', '先进技术院', '人才资源开发办公室', '会计核算中心', '房屋管理服务中心', '保密管理办公室', '国内合作办公室', '注册中心', '招生办公室（本科）', '研究生招生办公室', '学生职业发展指导中心', '教师发展中心', '职工发展中心', '档案馆', '校史研究室', '图书馆', '信息化技术中心', '艺术博物馆', '科学博物馆（筹）', '技术转移研究院', '智库中心', '继续教育学院', '接待服务中心', '修缮校园管理中心', '饮食服务中心', '学生社区管理服务中心', '商贸与食品安全管理中心', '昌平科研基地管理服务中心', '校医院', '清华大学附属中学', '清华大学附属小学', '清华大学洁华幼儿园', '北京华信医院', '清华大学玉泉医院', '北京清华长庚医院', '清华园街道办事处', '清华大学资产管理有限公司', '清华控股有限公司', '校友工作办公室', '清华大学教育基金会']\n"
     ]
    }
   ],
   "metadata": {}
  },
  {
   "cell_type": "code",
   "execution_count": null,
   "source": [],
   "outputs": [],
   "metadata": {}
  }
 ],
 "metadata": {
  "orig_nbformat": 4,
  "language_info": {
   "name": "python",
   "version": "3.8.5",
   "mimetype": "text/x-python",
   "codemirror_mode": {
    "name": "ipython",
    "version": 3
   },
   "pygments_lexer": "ipython3",
   "nbconvert_exporter": "python",
   "file_extension": ".py"
  },
  "kernelspec": {
   "name": "python3",
   "display_name": "Python 3.8.5 64-bit ('base': conda)"
  },
  "interpreter": {
   "hash": "97ae724bfa85b9b34df7982b8bb8c7216f435b92902d749e4263f71162bea840"
  }
 },
 "nbformat": 4,
 "nbformat_minor": 2
}