{
 "cells": [
  {
   "cell_type": "code",
   "execution_count": 1,
   "metadata": {},
   "outputs": [],
   "source": [
    "from lxml import etree\r\n",
    "import requests"
   ]
  },
  {
   "cell_type": "code",
   "execution_count": 2,
   "metadata": {},
   "outputs": [],
   "source": [
    "url = \"https://bj.58.com/ershoufang/?PGTID=0d30000c-0000-16d3-a5199-bad0adebbd10&ClickID=1\"\r\n",
    "headers={\r\n",
    "    'User-Agent':'Mozilla/5.0 (Windows NT 10.0; Win64; x64) AppleWebKit/537.36 (KHTML, like Gecko) Chrome/85.0.4183.102 Safari/537.36'\r\n",
    "    }\r\n",
    "response = requests.get(url=url, headers=headers)\r\n",
    "response.encoding=\"utf-8\""
   ]
  },
  {
   "cell_type": "code",
   "execution_count": 7,
   "metadata": {},
   "outputs": [],
   "source": [
    "list_xpath = ['//*[@class=\"property-content-title\"]//h3//text()', #名称\r\n",
    "            '//*[@class=\"property-content-info-text property-content-info-attribute\"]', #户型\r\n",
    "            '//*[@class=\"property-content-info-comm-address\"]//text()'] #位置\r\n",
    "html = etree.HTML(response.text)\r\n",
    "list_sum, list_model = [], []\r\n",
    "for i in list_xpath:\r\n",
    "    if i == list_xpath[1]:\r\n",
    "        title = html.xpath(i)\r\n",
    "        for j in title:\r\n",
    "            list_model.append(j.xpath(\"string(.)\"))\r\n",
    "        list_sum.append(list_model)\r\n",
    "    else:\r\n",
    "        title = html.xpath(i)\r\n",
    "        list_sum.append(title)\r\n"
   ]
  },
  {
   "cell_type": "code",
   "execution_count": 11,
   "metadata": {},
   "outputs": [],
   "source": [
    "for i in range(len(list_sum[1])):\r\n",
    "    house_info = list_sum[0][i],list_sum[1][i],list_sum[2][i]\r\n",
    "    with open(\"second-hand house.csv\", \"a\", encoding=\"utf-8\") as f:\r\n",
    "        f.write(str(house_info))\r\n",
    "        f.write(\"\\n\")"
   ]
  }
 ],
 "metadata": {
  "interpreter": {
   "hash": "97ae724bfa85b9b34df7982b8bb8c7216f435b92902d749e4263f71162bea840"
  },
  "kernelspec": {
   "display_name": "Python 3",
   "language": "python",
   "name": "python3"
  },
  "language_info": {
   "codemirror_mode": {
    "name": "ipython",
    "version": 3
   },
   "file_extension": ".py",
   "mimetype": "text/x-python",
   "name": "python",
   "nbconvert_exporter": "python",
   "pygments_lexer": "ipython3",
   "version": "3.8.5"
  }
 },
 "nbformat": 4,
 "nbformat_minor": 4
}
