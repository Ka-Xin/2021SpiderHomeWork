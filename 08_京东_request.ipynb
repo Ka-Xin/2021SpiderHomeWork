{
 "cells": [
  {
   "cell_type": "code",
   "execution_count": 1,
   "metadata": {},
   "outputs": [],
   "source": [
    "import requests"
   ]
  },
  {
   "cell_type": "code",
   "execution_count": 2,
   "metadata": {},
   "outputs": [],
   "source": [
    "url = 'https://search.jd.com/s_new.php?keyword=iphone13&enc=utf-8&wq=iphone13&page=1'"
   ]
  },
  {
   "cell_type": "code",
   "execution_count": 3,
   "metadata": {},
   "outputs": [],
   "source": [
    "headers = {\n",
    "    'authority': 'search.jd.com',\n",
    "    'sec-ch-ua': '\"Chromium\";v=\"94\", \"Google Chrome\";v=\"94\", \";Not A Brand\";v=\"99\"',\n",
    "    'accept': '*/*',\n",
    "    'x-requested-with': 'XMLHttpRequest',\n",
    "    'sec-ch-ua-mobile': '?0',\n",
    "    'user-agent': 'Mozilla/5.0 (Windows NT 10.0; Win64; x64) AppleWebKit/537.36 (KHTML, like Gecko) Chrome/94.0.4606.71 Safari/537.36',\n",
    "    'sec-ch-ua-platform': '\"Windows\"',\n",
    "    'sec-fetch-site': 'same-origin',\n",
    "    'sec-fetch-mode': 'cors',\n",
    "    'sec-fetch-dest': 'empty',\n",
    "    'referer': 'https://search.jd.com/Search?keyword=iphone13&enc=utf-8&suggest=1.def.0.base&wq=iph&pvid=647ad05359304d7f9e3ea455d85f804b',\n",
    "    'accept-language': 'zh-CN,zh;q=0.9,en-US;q=0.8,en;q=0.7',\n",
    "}\n",
    "\n",
    "params = (\n",
    "    ('keyword', 'iphone13'),\n",
    "    ('suggest', '1.def.0.base'),\n",
    "    ('wq', 'iphone13'),\n",
    "    ('pvid', '647ad05359304d7f9e3ea455d85f804b'),\n",
    "    ('page', '2'),\n",
    "    ('s', '26'),\n",
    "    ('scrolling', 'y'),\n",
    "    ('log_id', '1633503285671.1827'),\n",
    "    ('tpl', '1_M'),\n",
    "    ('isList', '0'),\n",
    ")\n"
   ]
  },
  {
   "cell_type": "code",
   "execution_count": 4,
   "metadata": {},
   "outputs": [],
   "source": [
    "response = requests.get(url=url, headers=headers, params=params)\n",
    "response.encoding=\"utf-8\""
   ]
  },
  {
   "cell_type": "code",
   "execution_count": 5,
   "metadata": {},
   "outputs": [],
   "source": [
    "from lxml import etree"
   ]
  },
  {
   "cell_type": "code",
   "execution_count": 6,
   "metadata": {},
   "outputs": [],
   "source": [
    "html = etree.HTML(response.text)"
   ]
  },
  {
   "cell_type": "code",
   "execution_count": 7,
   "metadata": {},
   "outputs": [],
   "source": [
    "#价格\n",
    "price_list = html.xpath('//div[@class=\"gl-i-wrap\"]/div[@class=\"p-price\"]/strong/i/text()')"
   ]
  },
  {
   "cell_type": "code",
   "execution_count": 8,
   "metadata": {},
   "outputs": [],
   "source": [
    "#名字\n",
    "name_list = []\n",
    "\n",
    "name_list_etree = html.xpath('//div[@class=\"p-name p-name-type-2\"]/a/em')\n",
    "\n",
    "for name in name_list_etree:\n",
    "    name_list.append(str(name.xpath('string(.)')).replace('\\n',''))"
   ]
  },
  {
   "cell_type": "code",
   "execution_count": 9,
   "metadata": {},
   "outputs": [],
   "source": [
    "#店铺名\n",
    "shopname_list = []\n",
    "\n",
    "shopname_list_etree = html.xpath('//span[@class=\"J_im_icon\"]/a')\n",
    "\n",
    "for shopname in shopname_list_etree:\n",
    "    shopname_list.append(shopname.text)"
   ]
  },
  {
   "cell_type": "code",
   "execution_count": 10,
   "metadata": {},
   "outputs": [],
   "source": [
    "#评论数\n",
    "import json\n",
    "list_id = html.xpath('//li[@class=\"gl-item\"]/@data-sku')#获取商品id\n",
    "\n",
    "url_id = 'https://club.jd.com/comment/productCommentSummaries.action?referenceIds='\n",
    "\n",
    "for pid in list_id:#得到评论数的url\n",
    "    url_id += pid + \",\"\n",
    "\n",
    "comment = requests.get(url=url_id,headers=headers, params=params)\n",
    "comment_list = []\n",
    "\n",
    "for comment in comment.json()[\"CommentsCount\"]:\n",
    "    comment_list.append(comment[\"CommentCountStr\"])"
   ]
  },
  {
   "cell_type": "code",
   "execution_count": 11,
   "metadata": {},
   "outputs": [],
   "source": [
    "import pandas as pd\n",
    "\n",
    "dataframe = pd.DataFrame({\n",
    "    '价格':price_list,\n",
    "    '名字':name_list,\n",
    "    '店铺名':shopname_list,\n",
    "    '评论数':comment_list,\n",
    "})\n",
    "\n",
    "dataframe.to_csv(\"08_京东_request.csv\",index=False)"
   ]
  },
  {
   "cell_type": "code",
   "execution_count": null,
   "metadata": {},
   "outputs": [],
   "source": []
  },
  {
   "cell_type": "code",
   "execution_count": null,
   "metadata": {},
   "outputs": [],
   "source": []
  }
 ],
 "metadata": {
  "interpreter": {
   "hash": "97ae724bfa85b9b34df7982b8bb8c7216f435b92902d749e4263f71162bea840"
  },
  "kernelspec": {
   "display_name": "Python 3.8.5 64-bit ('base': conda)",
   "name": "python3"
  },
  "language_info": {
   "codemirror_mode": {
    "name": "ipython",
    "version": 3
   },
   "file_extension": ".py",
   "mimetype": "text/x-python",
   "name": "python",
   "nbconvert_exporter": "python",
   "pygments_lexer": "ipython3",
   "version": "3.8.5"
  }
 },
 "nbformat": 4,
 "nbformat_minor": 4
}
