{
 "cells": [
  {
   "cell_type": "code",
   "execution_count": 1,
   "metadata": {},
   "outputs": [],
   "source": [
    "from selenium import webdriver\n",
    "import time\n",
    "from selenium.webdriver.chrome.options import Options"
   ]
  },
  {
   "cell_type": "code",
   "execution_count": 5,
   "metadata": {},
   "outputs": [],
   "source": [
    "chrome_options=Options()\n",
    "chrome_options.add_argument('--headless')\n",
    "chrome_options.add_argument('--disable-gpu')\n",
    "from selenium.webdriver import ChromeOptions\n",
    "option = ChromeOptions()\n",
    "option.add_experimental_option('excludeSwitches',['enable-automation'])\n",
    "url = \"https://www.weibo.com\"\n",
    "driver = webdriver.Chrome(executable_path=r\"C:\\chromedriver_win32\\chromedriver.exe\",chrome_options=chrome_options,options=option)\n",
    "driver.get(url)"
   ]
  },
  {
   "cell_type": "code",
   "execution_count": 6,
   "metadata": {},
   "outputs": [],
   "source": [
    "from selenium.webdriver.common.action_chains import ActionChains"
   ]
  },
  {
   "cell_type": "code",
   "execution_count": 7,
   "metadata": {},
   "outputs": [],
   "source": [
    "time.sleep(10)\n",
    "#点击搜索\n",
    "search = driver.find_element_by_xpath('//*[@class=\"W_input\"]')\n",
    "ActionChains(driver).click(search).perform()"
   ]
  },
  {
   "cell_type": "code",
   "execution_count": 8,
   "metadata": {},
   "outputs": [],
   "source": [
    "top_element = driver.find_element_by_xpath('//*[@suda-data=\"key=tblog_top_search_v4&value=hotword_01\"]/a')\n",
    "ActionChains(driver).click(top_element).perform()"
   ]
  },
  {
   "cell_type": "code",
   "execution_count": 9,
   "metadata": {},
   "outputs": [
    {
     "name": "stdout",
     "output_type": "stream",
     "text": [
      "共有22个用户\n"
     ]
    }
   ],
   "source": [
    "list_link = driver.find_elements_by_xpath('//*[@class=\"info\"]/div[2]/a[1]')\n",
    "print(\"共有\" + str(len(list_link)) + \"个用户\")"
   ]
  },
  {
   "cell_type": "code",
   "execution_count": 10,
   "metadata": {},
   "outputs": [],
   "source": [
    "for i in range(len(list_link)):\n",
    "    ActionChains(driver).click(list_link[i]).perform()"
   ]
  },
  {
   "cell_type": "code",
   "execution_count": 11,
   "metadata": {},
   "outputs": [],
   "source": [
    "windows = driver.window_handles\n",
    "list_followed, list_fans, list_number, list_name = [], [], [], []"
   ]
  },
  {
   "cell_type": "code",
   "execution_count": 12,
   "metadata": {},
   "outputs": [
    {
     "name": "stdout",
     "output_type": "stream",
     "text": [
      "第1用户完成！\n",
      "第2用户完成！\n",
      "第3用户完成！\n",
      "第4用户完成！\n",
      "第5用户完成！\n",
      "第6用户完成！\n",
      "第7用户完成！\n",
      "第8用户完成！\n",
      "第9用户完成！\n",
      "第10用户完成！\n",
      "第11用户完成！\n",
      "第12用户完成！\n",
      "第13用户完成！\n",
      "第14用户完成！\n",
      "第15用户完成！\n",
      "第16用户完成！\n",
      "第17用户完成！\n",
      "第18用户完成！\n",
      "第19用户完成！\n",
      "第20用户完成！\n",
      "第21用户完成！\n"
     ]
    }
   ],
   "source": [
    "for i in range(1, len(list_link)):\n",
    "    driver.switch_to.window(windows[i])\n",
    "    info_list = driver.find_elements_by_xpath('//td[@class=\"S_line1\"]//strong')\n",
    "    name = driver.find_element_by_xpath('//*[@class=\"username\"]')\n",
    "    list_followed.append(info_list[0].text)\n",
    "    list_fans.append(info_list[1].text)\n",
    "    list_number.append(info_list[2].text)\n",
    "    list_name.append(name.text)\n",
    "    print(\"第\" + str(i) + \"个用户完成！\")"
   ]
  },
  {
   "cell_type": "code",
   "execution_count": 13,
   "metadata": {},
   "outputs": [],
   "source": [
    "import pandas as pd\n",
    "dataframe = pd.DataFrame({\n",
    "    '用户名':list_name,\n",
    "    '关注数':list_followed,\n",
    "    '粉丝数':list_fans,\n",
    "    '文章数':list_number\n",
    "})\n",
    "\n",
    "dataframe.to_csv(\"08_微博.csv\",index=False,encoding=\"utf-8\")"
   ]
  }
 ],
 "metadata": {
  "interpreter": {
   "hash": "97ae724bfa85b9b34df7982b8bb8c7216f435b92902d749e4263f71162bea840"
  },
  "kernelspec": {
   "display_name": "Python 3",
   "language": "python",
   "name": "python3"
  },
  "language_info": {
   "codemirror_mode": {
    "name": "ipython",
    "version": 3
   },
   "file_extension": ".py",
   "mimetype": "text/x-python",
   "name": "python",
   "nbconvert_exporter": "python",
   "pygments_lexer": "ipython3",
   "version": "3.8.5"
  }
 },
 "nbformat": 4,
 "nbformat_minor": 2
}
